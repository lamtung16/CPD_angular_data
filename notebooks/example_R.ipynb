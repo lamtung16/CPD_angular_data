{
 "cells": [
  {
   "cell_type": "code",
   "execution_count": null,
   "id": "b649648f",
   "metadata": {
    "vscode": {
     "languageId": "r"
    }
   },
   "outputs": [],
   "source": [
    "signal <- matrix(c(1.0, 0.1, 1.2, 6.2, 0.8, 6.1, 3.0, 2.0, 3.2, 2.1,\n",
    "                   2.8, 2.0, 3.1, 1.9, 1.0, 3.1, 1.1, 3.0, 0.9, 3.2),\n",
    "                 ncol = 2, byrow = TRUE)\n",
    "\n",
    "penalty <- 0.1\n",
    "num_states <- 5"
   ]
  },
  {
   "cell_type": "code",
   "execution_count": null,
   "id": "587e1073",
   "metadata": {
    "vscode": {
     "languageId": "r"
    }
   },
   "outputs": [],
   "source": [
    "# no installation (if installation not working)\n",
    "library(Rcpp)\n",
    "sourceCpp(\"../src/interface.cpp\")\n",
    "\n",
    "change_points <- apart_rcpp(signal, penalty, num_states)\n",
    "print(change_points)"
   ]
  },
  {
   "cell_type": "code",
   "execution_count": null,
   "id": "958ac0c2",
   "metadata": {
    "vscode": {
     "languageId": "r"
    }
   },
   "outputs": [],
   "source": [
    "# After installation\n",
    "library(apartruptures)\n",
    "\n",
    "change_points <- apart_rcpp(signal, penalty, num_states)\n",
    "print(change_points)"
   ]
  }
 ],
 "metadata": {
  "kernelspec": {
   "display_name": "R",
   "language": "R",
   "name": "ir"
  },
  "language_info": {
   "codemirror_mode": "r",
   "file_extension": ".r",
   "mimetype": "text/x-r-source",
   "name": "R",
   "pygments_lexer": "r",
   "version": "4.5.1"
  }
 },
 "nbformat": 4,
 "nbformat_minor": 5
}
