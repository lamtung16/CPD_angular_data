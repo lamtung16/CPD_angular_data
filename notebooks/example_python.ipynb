{
 "cells": [
  {
   "cell_type": "code",
   "execution_count": null,
   "id": "62d68984",
   "metadata": {
    "vscode": {
     "languageId": "plaintext"
    }
   },
   "outputs": [],
   "source": [
    "import numpy as np\n",
    "from ruptures_apart import apart"
   ]
  },
  {
   "cell_type": "code",
   "execution_count": null,
   "id": "c854ca20",
   "metadata": {
    "vscode": {
     "languageId": "plaintext"
    }
   },
   "outputs": [],
   "source": [
    "signal = np.random.random(size=(100, 3))\n",
    "bkps = apart(signal=signal, pen=0.3, nStates=10)\n",
    "print(bkps)"
   ]
  }
 ],
 "metadata": {
  "language_info": {
   "name": "python"
  }
 },
 "nbformat": 4,
 "nbformat_minor": 5
}
